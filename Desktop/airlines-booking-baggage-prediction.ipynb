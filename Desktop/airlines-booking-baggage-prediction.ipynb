{
 "cells": [
  {
   "cell_type": "code",
   "execution_count": 1,
   "id": "44431fc4",
   "metadata": {
    "_cell_guid": "b1076dfc-b9ad-4769-8c92-a6c4dae69d19",
    "_uuid": "8f2839f25d086af736a60e9eeb907d3b93b6e0e5",
    "execution": {
     "iopub.execute_input": "2024-11-02T10:28:04.663678Z",
     "iopub.status.busy": "2024-11-02T10:28:04.662651Z",
     "iopub.status.idle": "2024-11-02T10:28:07.398742Z",
     "shell.execute_reply": "2024-11-02T10:28:07.397481Z"
    },
    "papermill": {
     "duration": 2.745888,
     "end_time": "2024-11-02T10:28:07.401344",
     "exception": false,
     "start_time": "2024-11-02T10:28:04.655456",
     "status": "completed"
    },
    "tags": []
   },
   "outputs": [
    {
     "name": "stdout",
     "output_type": "stream",
     "text": [
      "/kaggle/input/32/other/default/1/customer_booking.csv\n"
     ]
    }
   ],
   "source": [
    "# This Python 3 environment comes with many helpful analytics libraries installed\n",
    "# It is defined by the kaggle/python Docker image: https://github.com/kaggle/docker-python\n",
    "# For example, here's several helpful packages to load\n",
    "\n",
    "import numpy as np # linear algebra\n",
    "import pandas as pd # data processing, CSV file I/O (e.g. pd.read_csv)\n",
    "from sklearn.ensemble import RandomForestClassifier\n",
    "from sklearn.model_selection import train_test_split,cross_val_score\n",
    "\n",
    "# Input data files are available in the read-only \"../input/\" directory\n",
    "# For example, running this (by clicking run or pressing Shift+Enter) will list all files under the input directory\n",
    "import os\n",
    "for dirname, _, filenames in os.walk('/kaggle/input'):\n",
    "    for filename in filenames:\n",
    "        print(os.path.join(dirname, filename))\n",
    "\n",
    "# You can write up to 20GB to the current directory (/kaggle/working/) that gets preserved as output when you create a version using \"Save & Run All\" \n",
    "# You can also write temporary files to /kaggle/temp/, but they won't be saved outside of the current session"
   ]
  },
  {
   "cell_type": "code",
   "execution_count": 2,
   "id": "dfa8d2b1",
   "metadata": {
    "execution": {
     "iopub.execute_input": "2024-11-02T10:28:07.413452Z",
     "iopub.status.busy": "2024-11-02T10:28:07.412894Z",
     "iopub.status.idle": "2024-11-02T10:28:07.627256Z",
     "shell.execute_reply": "2024-11-02T10:28:07.626093Z"
    },
    "papermill": {
     "duration": 0.223717,
     "end_time": "2024-11-02T10:28:07.630222",
     "exception": false,
     "start_time": "2024-11-02T10:28:07.406505",
     "status": "completed"
    },
    "tags": []
   },
   "outputs": [],
   "source": [
    "df=pd.read_csv(\"/kaggle/input/32/other/default/1/customer_booking.csv\",encoding=\"latin-1\")"
   ]
  },
  {
   "cell_type": "code",
   "execution_count": 3,
   "id": "2957eff1",
   "metadata": {
    "execution": {
     "iopub.execute_input": "2024-11-02T10:28:07.642105Z",
     "iopub.status.busy": "2024-11-02T10:28:07.641666Z",
     "iopub.status.idle": "2024-11-02T10:28:07.670762Z",
     "shell.execute_reply": "2024-11-02T10:28:07.669033Z"
    },
    "papermill": {
     "duration": 0.038176,
     "end_time": "2024-11-02T10:28:07.673420",
     "exception": false,
     "start_time": "2024-11-02T10:28:07.635244",
     "status": "completed"
    },
    "tags": []
   },
   "outputs": [
    {
     "data": {
      "text/html": [
       "<div>\n",
       "<style scoped>\n",
       "    .dataframe tbody tr th:only-of-type {\n",
       "        vertical-align: middle;\n",
       "    }\n",
       "\n",
       "    .dataframe tbody tr th {\n",
       "        vertical-align: top;\n",
       "    }\n",
       "\n",
       "    .dataframe thead th {\n",
       "        text-align: right;\n",
       "    }\n",
       "</style>\n",
       "<table border=\"1\" class=\"dataframe\">\n",
       "  <thead>\n",
       "    <tr style=\"text-align: right;\">\n",
       "      <th></th>\n",
       "      <th>num_passengers</th>\n",
       "      <th>sales_channel</th>\n",
       "      <th>trip_type</th>\n",
       "      <th>purchase_lead</th>\n",
       "      <th>length_of_stay</th>\n",
       "      <th>flight_hour</th>\n",
       "      <th>flight_day</th>\n",
       "      <th>route</th>\n",
       "      <th>booking_origin</th>\n",
       "      <th>wants_extra_baggage</th>\n",
       "      <th>wants_preferred_seat</th>\n",
       "      <th>wants_in_flight_meals</th>\n",
       "      <th>flight_duration</th>\n",
       "      <th>booking_complete</th>\n",
       "    </tr>\n",
       "  </thead>\n",
       "  <tbody>\n",
       "    <tr>\n",
       "      <th>0</th>\n",
       "      <td>2</td>\n",
       "      <td>Internet</td>\n",
       "      <td>RoundTrip</td>\n",
       "      <td>262</td>\n",
       "      <td>19</td>\n",
       "      <td>7</td>\n",
       "      <td>Sat</td>\n",
       "      <td>AKLDEL</td>\n",
       "      <td>New Zealand</td>\n",
       "      <td>1</td>\n",
       "      <td>0</td>\n",
       "      <td>0</td>\n",
       "      <td>5.52</td>\n",
       "      <td>0</td>\n",
       "    </tr>\n",
       "    <tr>\n",
       "      <th>1</th>\n",
       "      <td>1</td>\n",
       "      <td>Internet</td>\n",
       "      <td>RoundTrip</td>\n",
       "      <td>112</td>\n",
       "      <td>20</td>\n",
       "      <td>3</td>\n",
       "      <td>Sat</td>\n",
       "      <td>AKLDEL</td>\n",
       "      <td>New Zealand</td>\n",
       "      <td>0</td>\n",
       "      <td>0</td>\n",
       "      <td>0</td>\n",
       "      <td>5.52</td>\n",
       "      <td>0</td>\n",
       "    </tr>\n",
       "    <tr>\n",
       "      <th>2</th>\n",
       "      <td>2</td>\n",
       "      <td>Internet</td>\n",
       "      <td>RoundTrip</td>\n",
       "      <td>243</td>\n",
       "      <td>22</td>\n",
       "      <td>17</td>\n",
       "      <td>Wed</td>\n",
       "      <td>AKLDEL</td>\n",
       "      <td>India</td>\n",
       "      <td>1</td>\n",
       "      <td>1</td>\n",
       "      <td>0</td>\n",
       "      <td>5.52</td>\n",
       "      <td>0</td>\n",
       "    </tr>\n",
       "  </tbody>\n",
       "</table>\n",
       "</div>"
      ],
      "text/plain": [
       "   num_passengers sales_channel  trip_type  purchase_lead  length_of_stay  \\\n",
       "0               2      Internet  RoundTrip            262              19   \n",
       "1               1      Internet  RoundTrip            112              20   \n",
       "2               2      Internet  RoundTrip            243              22   \n",
       "\n",
       "   flight_hour flight_day   route booking_origin  wants_extra_baggage  \\\n",
       "0            7        Sat  AKLDEL    New Zealand                    1   \n",
       "1            3        Sat  AKLDEL    New Zealand                    0   \n",
       "2           17        Wed  AKLDEL          India                    1   \n",
       "\n",
       "   wants_preferred_seat  wants_in_flight_meals  flight_duration  \\\n",
       "0                     0                      0             5.52   \n",
       "1                     0                      0             5.52   \n",
       "2                     1                      0             5.52   \n",
       "\n",
       "   booking_complete  \n",
       "0                 0  \n",
       "1                 0  \n",
       "2                 0  "
      ]
     },
     "execution_count": 3,
     "metadata": {},
     "output_type": "execute_result"
    }
   ],
   "source": [
    "df.head(3)"
   ]
  },
  {
   "cell_type": "code",
   "execution_count": 4,
   "id": "5f94700c",
   "metadata": {
    "execution": {
     "iopub.execute_input": "2024-11-02T10:28:07.685770Z",
     "iopub.status.busy": "2024-11-02T10:28:07.685308Z",
     "iopub.status.idle": "2024-11-02T10:28:07.788687Z",
     "shell.execute_reply": "2024-11-02T10:28:07.787480Z"
    },
    "papermill": {
     "duration": 0.112779,
     "end_time": "2024-11-02T10:28:07.791595",
     "exception": false,
     "start_time": "2024-11-02T10:28:07.678816",
     "status": "completed"
    },
    "tags": []
   },
   "outputs": [],
   "source": [
    "df=pd.get_dummies(df,columns=[\"sales_channel\",\"trip_type\",\"flight_day\",\"route\",\"booking_origin\"],drop_first=True)"
   ]
  },
  {
   "cell_type": "code",
   "execution_count": 5,
   "id": "cadce930",
   "metadata": {
    "execution": {
     "iopub.execute_input": "2024-11-02T10:28:07.804408Z",
     "iopub.status.busy": "2024-11-02T10:28:07.803355Z",
     "iopub.status.idle": "2024-11-02T10:28:07.833100Z",
     "shell.execute_reply": "2024-11-02T10:28:07.831909Z"
    },
    "papermill": {
     "duration": 0.039171,
     "end_time": "2024-11-02T10:28:07.835942",
     "exception": false,
     "start_time": "2024-11-02T10:28:07.796771",
     "status": "completed"
    },
    "tags": []
   },
   "outputs": [],
   "source": [
    "y=df[\"wants_extra_baggage\"]\n",
    "x=df.drop(\"wants_extra_baggage\",axis=1)"
   ]
  },
  {
   "cell_type": "code",
   "execution_count": 6,
   "id": "9700d273",
   "metadata": {
    "execution": {
     "iopub.execute_input": "2024-11-02T10:28:07.848501Z",
     "iopub.status.busy": "2024-11-02T10:28:07.848019Z",
     "iopub.status.idle": "2024-11-02T10:28:07.948297Z",
     "shell.execute_reply": "2024-11-02T10:28:07.947099Z"
    },
    "papermill": {
     "duration": 0.109641,
     "end_time": "2024-11-02T10:28:07.951229",
     "exception": false,
     "start_time": "2024-11-02T10:28:07.841588",
     "status": "completed"
    },
    "tags": []
   },
   "outputs": [],
   "source": [
    "x_train,x_test,y_train,y_test=train_test_split(x,y,train_size=0.85,random_state=42)"
   ]
  },
  {
   "cell_type": "code",
   "execution_count": 7,
   "id": "26366afc",
   "metadata": {
    "execution": {
     "iopub.execute_input": "2024-11-02T10:28:07.964154Z",
     "iopub.status.busy": "2024-11-02T10:28:07.963170Z",
     "iopub.status.idle": "2024-11-02T10:28:50.623453Z",
     "shell.execute_reply": "2024-11-02T10:28:50.622217Z"
    },
    "papermill": {
     "duration": 42.670069,
     "end_time": "2024-11-02T10:28:50.626576",
     "exception": false,
     "start_time": "2024-11-02T10:28:07.956507",
     "status": "completed"
    },
    "tags": []
   },
   "outputs": [],
   "source": [
    "rf=RandomForestClassifier()\n",
    "model=rf.fit(x_train,y_train)"
   ]
  },
  {
   "cell_type": "code",
   "execution_count": 8,
   "id": "b5c38655",
   "metadata": {
    "execution": {
     "iopub.execute_input": "2024-11-02T10:28:50.639301Z",
     "iopub.status.busy": "2024-11-02T10:28:50.638870Z",
     "iopub.status.idle": "2024-11-02T10:28:51.220528Z",
     "shell.execute_reply": "2024-11-02T10:28:51.219309Z"
    },
    "papermill": {
     "duration": 0.591452,
     "end_time": "2024-11-02T10:28:51.223356",
     "exception": false,
     "start_time": "2024-11-02T10:28:50.631904",
     "status": "completed"
    },
    "tags": []
   },
   "outputs": [
    {
     "data": {
      "text/plain": [
       "0.7266666666666667"
      ]
     },
     "execution_count": 8,
     "metadata": {},
     "output_type": "execute_result"
    }
   ],
   "source": [
    "model.score(x_test,y_test)"
   ]
  },
  {
   "cell_type": "code",
   "execution_count": 9,
   "id": "f3700973",
   "metadata": {
    "execution": {
     "iopub.execute_input": "2024-11-02T10:28:51.236507Z",
     "iopub.status.busy": "2024-11-02T10:28:51.235566Z",
     "iopub.status.idle": "2024-11-02T10:30:51.661523Z",
     "shell.execute_reply": "2024-11-02T10:30:51.660089Z"
    },
    "papermill": {
     "duration": 120.436722,
     "end_time": "2024-11-02T10:30:51.665548",
     "exception": false,
     "start_time": "2024-11-02T10:28:51.228826",
     "status": "completed"
    },
    "tags": []
   },
   "outputs": [],
   "source": [
    "crossval=cross_val_score(model,x,y,cv=4)"
   ]
  },
  {
   "cell_type": "code",
   "execution_count": 10,
   "id": "daed1c27",
   "metadata": {
    "execution": {
     "iopub.execute_input": "2024-11-02T10:30:51.681398Z",
     "iopub.status.busy": "2024-11-02T10:30:51.680870Z",
     "iopub.status.idle": "2024-11-02T10:30:51.692614Z",
     "shell.execute_reply": "2024-11-02T10:30:51.691372Z"
    },
    "papermill": {
     "duration": 0.022326,
     "end_time": "2024-11-02T10:30:51.695588",
     "exception": false,
     "start_time": "2024-11-02T10:30:51.673262",
     "status": "completed"
    },
    "tags": []
   },
   "outputs": [
    {
     "data": {
      "text/plain": [
       "array([0.67296, 0.43456, 0.35208, 0.53192])"
      ]
     },
     "execution_count": 10,
     "metadata": {},
     "output_type": "execute_result"
    }
   ],
   "source": [
    "crossval"
   ]
  },
  {
   "cell_type": "code",
   "execution_count": 11,
   "id": "75f85363",
   "metadata": {
    "execution": {
     "iopub.execute_input": "2024-11-02T10:30:51.709736Z",
     "iopub.status.busy": "2024-11-02T10:30:51.709186Z",
     "iopub.status.idle": "2024-11-02T10:30:51.717964Z",
     "shell.execute_reply": "2024-11-02T10:30:51.716637Z"
    },
    "papermill": {
     "duration": 0.019712,
     "end_time": "2024-11-02T10:30:51.720787",
     "exception": false,
     "start_time": "2024-11-02T10:30:51.701075",
     "status": "completed"
    },
    "tags": []
   },
   "outputs": [
    {
     "data": {
      "text/plain": [
       "0.49788"
      ]
     },
     "execution_count": 11,
     "metadata": {},
     "output_type": "execute_result"
    }
   ],
   "source": [
    "crossval.mean()"
   ]
  }
 ],
 "metadata": {
  "kaggle": {
   "accelerator": "none",
   "dataSources": [
    {
     "isSourceIdPinned": true,
     "modelId": 153304,
     "modelInstanceId": 130462,
     "sourceId": 153580,
     "sourceType": "modelInstanceVersion"
    }
   ],
   "dockerImageVersionId": 30786,
   "isGpuEnabled": false,
   "isInternetEnabled": false,
   "language": "python",
   "sourceType": "notebook"
  },
  "kernelspec": {
   "display_name": "Python 3",
   "language": "python",
   "name": "python3"
  },
  "language_info": {
   "codemirror_mode": {
    "name": "ipython",
    "version": 3
   },
   "file_extension": ".py",
   "mimetype": "text/x-python",
   "name": "python",
   "nbconvert_exporter": "python",
   "pygments_lexer": "ipython3",
   "version": "3.10.14"
  },
  "papermill": {
   "default_parameters": {},
   "duration": 170.812233,
   "end_time": "2024-11-02T10:30:52.348978",
   "environment_variables": {},
   "exception": null,
   "input_path": "__notebook__.ipynb",
   "output_path": "__notebook__.ipynb",
   "parameters": {},
   "start_time": "2024-11-02T10:28:01.536745",
   "version": "2.6.0"
  }
 },
 "nbformat": 4,
 "nbformat_minor": 5
}
